{
  "nbformat": 4,
  "nbformat_minor": 0,
  "metadata": {
    "colab": {
      "provenance": []
    },
    "kernelspec": {
      "name": "python3",
      "display_name": "Python 3"
    },
    "language_info": {
      "name": "python"
    }
  },
  "cells": [
    {
      "cell_type": "markdown",
      "source": [
        "# Opis projektu:\n",
        "\n",
        "Celem projektu jest zbudowanie modelu, który będzie przewidywał, czy pacjent ma cukrzycę na podstawie cech takich jak wiek, BMI, ciśnienie krwi, poziom cukru. Chcemy przeprowadzić dokładną diagnozę cukrzycy i uzyskać jak najbardziej dokładne prognozy."
      ],
      "metadata": {
        "id": "QOd1DoW56IDQ"
      }
    },
    {
      "cell_type": "markdown",
      "source": [
        "# Kroki\n",
        "\n",
        "\n",
        "\n",
        "1.   Wczytanie i eksploracja danych.\n",
        "2.   Podział danych na zbiory treningowy i testowy.\n",
        "3.   Przetwarzanie i oczyszczanie danych.\n",
        "4.   Transformacja danych.\n",
        "5.   Wybór i uzasadnienie algorytmu modelu.\n",
        "6.   Optymalizacja hiperparametrów.\n",
        "7.   Ocena jakości modelu za pomocą różnych miar.\n",
        "8.   Prezentacja wyników.\n",
        "\n",
        "\n"
      ],
      "metadata": {
        "id": "sWYaUVfo6tts"
      }
    },
    {
      "cell_type": "markdown",
      "source": [
        "# Dobór i podział danych\n",
        "\n",
        "Podzielę dane na zbiór treningowy i testowy.\n",
        "\n",
        "Zbiór treningowy = 80%.\n",
        "Zbiór testowy = 20%."
      ],
      "metadata": {
        "id": "oXzosGeq7gqY"
      }
    },
    {
      "cell_type": "markdown",
      "source": [
        "# Część I"
      ],
      "metadata": {
        "id": "EuaMFVKVCwbV"
      }
    },
    {
      "cell_type": "code",
      "source": [
        "!pip install -U scikit-learn\n",
        "!pip install pandas"
      ],
      "metadata": {
        "collapsed": true,
        "id": "xs-216138xtV"
      },
      "execution_count": null,
      "outputs": []
    },
    {
      "cell_type": "code",
      "source": [
        "import numpy as np\n",
        "import pandas as pd\n",
        "from sklearn.model_selection import train_test_split"
      ],
      "metadata": {
        "id": "elasWU9i8fjk"
      },
      "execution_count": 3,
      "outputs": []
    },
    {
      "cell_type": "code",
      "source": [
        "df = pd.read_csv('Diabetes.csv')"
      ],
      "metadata": {
        "id": "zAJMrlnL8Q0B"
      },
      "execution_count": 10,
      "outputs": []
    },
    {
      "cell_type": "code",
      "source": [
        "# Wyświetlenie podstawowych informacji o danych\n",
        "print(df.info())\n",
        "print(df.describe())\n",
        "print(df.head())"
      ],
      "metadata": {
        "collapsed": true,
        "id": "38kAlC0i9Zzs"
      },
      "execution_count": null,
      "outputs": []
    },
    {
      "cell_type": "markdown",
      "source": [
        "**Podział na zbiory treningowy i testowy**"
      ],
      "metadata": {
        "id": "ApX0LcP4_aln"
      }
    },
    {
      "cell_type": "code",
      "source": [
        "X = np.arange(80).reshape((20, 4))\n",
        "X_train, X_test = train_test_split(X, test_size=0.2, random_state=42)"
      ],
      "metadata": {
        "id": "00Czramu-cCX"
      },
      "execution_count": 13,
      "outputs": []
    },
    {
      "cell_type": "markdown",
      "source": [
        "**Oczyszczanie danych**"
      ],
      "metadata": {
        "id": "ZH_d4Q4i_oZ-"
      }
    },
    {
      "cell_type": "code",
      "source": [
        "# Sprawdzenie liczby brakujących wartości\n",
        "print(df.isnull().sum())\n",
        "\n",
        "# Usunięcie duplikatów\n",
        "df = df.drop_duplicates()"
      ],
      "metadata": {
        "id": "_Cb3WNKk_tCm"
      },
      "execution_count": null,
      "outputs": []
    },
    {
      "cell_type": "markdown",
      "source": [
        "**Transformacja danych przy użyciu procesu standaryzacji**"
      ],
      "metadata": {
        "id": "LStXaHm6AvQq"
      }
    },
    {
      "cell_type": "code",
      "source": [
        "from sklearn.preprocessing import StandardScaler\n",
        "\n",
        "scaler = StandardScaler()\n",
        "X_train_scaled = scaler.fit_transform(X_train)\n",
        "X_test_scaled = scaler.transform(X_test)"
      ],
      "metadata": {
        "id": "0mmCdyQPCCq4"
      },
      "execution_count": 16,
      "outputs": []
    }
  ]
}